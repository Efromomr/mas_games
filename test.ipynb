{
  "nbformat": 4,
  "nbformat_minor": 0,
  "metadata": {
    "colab": {
      "provenance": []
    },
    "kernelspec": {
      "name": "python3",
      "display_name": "Python 3"
    },
    "language_info": {
      "name": "python"
    }
  },
  "cells": [
    {
      "cell_type": "code",
      "source": [
        "!pip install langchain-openai"
      ],
      "metadata": {
        "id": "aGmcrhkEhEke"
      },
      "execution_count": null,
      "outputs": []
    },
    {
      "cell_type": "code",
      "source": [
        "import json\n",
        "\n",
        "from random import shuffle\n",
        "\n",
        "import re\n",
        "\n",
        "import os\n",
        "\n",
        "from google.colab import userdata\n",
        "\n",
        "import pandas as pd\n",
        "\n",
        "from collections import defaultdict\n",
        "\n",
        "from langchain_openai import ChatOpenAI"
      ],
      "metadata": {
        "id": "WoSLmvtnhU6V"
      },
      "execution_count": null,
      "outputs": []
    },
    {
      "cell_type": "code",
      "execution_count": null,
      "metadata": {
        "id": "MB_i9zbjhBWG"
      },
      "outputs": [],
      "source": [
        "from prompts import base_stag_prompt, stag_history_prompt,\n",
        "stag_zero_shot_prompt, stag_cot_prompt, stag_predict_prompt, base_pg_prompt,\n",
        "pg_history_prompt, pg_zero_shot_prompt, pg_cot_prompt, pg_predict_prompt,\n",
        "hanabi_system_prompt, hanabi_observation_prompt, hanabi_action_prompt\n",
        "\n",
        "from metrics import winrate, rationality_public_goods, rationality_stag_hunt\n",
        "\n",
        "from games import StagHuntGame, PublicGoodsGame, HanabiGame\n",
        "\n",
        "from agents import StagHuntAgent, PublicGoodsAgent, HanabiAgent"
      ]
    },
    {
      "cell_type": "code",
      "source": [
        "def get_games_from_json(path_to_json='/test_reports):\n",
        "  global games\n",
        "  json_files = [f for f in os.listdir(path_to_json) if f.endswith('.json')]\n",
        "  for p in json_files:\n",
        "    with open(p) as f:\n",
        "      g = json.load(f)\n",
        "      games.append(g)"
      ],
      "metadata": {
        "id": "ogx6ygE5iXQZ"
      },
      "execution_count": null,
      "outputs": []
    },
    {
      "cell_type": "code",
      "source": [
        "os.environ[\"OPENAI_API_KEY\"] = userdata.get('OPENAI_API_KEY')\n",
        "\n",
        "model = ChatOpenAI(temperature=0.9)"
      ],
      "metadata": {
        "id": "jbxRae_2hM2b"
      },
      "execution_count": null,
      "outputs": []
    },
    {
      "cell_type": "markdown",
      "source": [
        "#StagHunt"
      ],
      "metadata": {
        "id": "btXA87AMjjoU"
      }
    },
    {
      "cell_type": "code",
      "source": [
        "#CoT\n",
        "games = []\n",
        "for i in range(5):\n",
        "  g = StagHuntGame(f'stag_hunt_cot_4_{i}', 5, [StagHuntAgent(name = 'Player A',\n",
        "                                                             model = model),\n",
        "                                StagHuntAgent(name = 'Player B', model = model,\n",
        "                                              prompt_type = stag_cot_prompt)])\n",
        "  g.play(save_to_json = True)"
      ],
      "metadata": {
        "id": "WfC1fr2KjrUP"
      },
      "execution_count": null,
      "outputs": []
    },
    {
      "cell_type": "code",
      "source": [
        "win_rate(g.agents, games)"
      ],
      "metadata": {
        "id": "g9iIdpxSNeJi"
      },
      "execution_count": null,
      "outputs": []
    },
    {
      "cell_type": "code",
      "source": [
        "rationality_stag_hunt(g.agents, games, g.n_rounds)"
      ],
      "metadata": {
        "id": "_qgVrPPTNh2r"
      },
      "execution_count": null,
      "outputs": []
    },
    {
      "cell_type": "markdown",
      "source": [
        "#Public Goods"
      ],
      "metadata": {
        "id": "8rdqTu9uj7Jr"
      }
    },
    {
      "cell_type": "code",
      "source": [
        "#CoT\n",
        "games = []\n",
        "g = PublicGoodsGame('game_1', 3, [PublicGoodsAgent(name = 'Player A',\n",
        "                                                   model = model,\n",
        "                                                   prompt_type = pg_cot_prompt),\n",
        "                                  PublicGoodsAgent(name = 'Player B',\n",
        "                                                   model = model),\n",
        "                                  PublicGoodsAgent(name = 'Player C',\n",
        "                                                   model = model)], 5)\n",
        "g.play()"
      ],
      "metadata": {
        "id": "_8JZJEl7iZhX"
      },
      "execution_count": null,
      "outputs": []
    },
    {
      "cell_type": "code",
      "source": [
        "win_rate(g.agents, games)"
      ],
      "metadata": {
        "id": "rnnIlgSNNfMs"
      },
      "execution_count": null,
      "outputs": []
    },
    {
      "cell_type": "code",
      "source": [
        "rationality_public_goods(g.agents, games, g.n_rounds)"
      ],
      "metadata": {
        "id": "DHKeawZgNhCn"
      },
      "execution_count": null,
      "outputs": []
    },
    {
      "cell_type": "markdown",
      "source": [
        "#Hanabi"
      ],
      "metadata": {
        "id": "yYFNCyOONrEj"
      }
    },
    {
      "cell_type": "code",
      "source": [
        "#CoT\n",
        "games = []\n",
        "g = HanabiGame([HanabiAgent(name = 'Player A'),\n",
        "                HanabiAgent(name = 'Player B', model = model)],\n",
        "                cards_in_hand = 2, colors = ['red', 'blue'])\n",
        "g.play()"
      ],
      "metadata": {
        "id": "4Eaboro8Ny4E"
      },
      "execution_count": null,
      "outputs": []
    },
    {
      "cell_type": "code",
      "source": [
        "win_rate(g.agents, games)"
      ],
      "metadata": {
        "id": "uRO4I7L7Nsov"
      },
      "execution_count": null,
      "outputs": []
    }
  ]
}