{
  "nbformat": 4,
  "nbformat_minor": 0,
  "metadata": {
    "colab": {
      "provenance": []
    },
    "kernelspec": {
      "name": "python3",
      "display_name": "Python 3"
    },
    "language_info": {
      "name": "python"
    }
  },
  "cells": [
    {
      "cell_type": "code",
      "source": [
        "!pip install langchain"
      ],
      "metadata": {
        "id": "aGmcrhkEhEke"
      },
      "execution_count": null,
      "outputs": []
    },
    {
      "cell_type": "code",
      "source": [
        "import json\n",
        "\n",
        "from random import shuffle\n",
        "\n",
        "import re\n",
        "\n",
        "import os\n",
        "\n",
        "import pandas as pd\n",
        "\n",
        "from collections import defaultdict\n",
        "\n",
        "from langchain.llms import OpenAI"
      ],
      "metadata": {
        "id": "WoSLmvtnhU6V"
      },
      "execution_count": null,
      "outputs": []
    },
    {
      "cell_type": "code",
      "execution_count": null,
      "metadata": {
        "id": "MB_i9zbjhBWG"
      },
      "outputs": [],
      "source": [
        "from prompts import base_stag_prompt, stag_history_prompt,\n",
        "stag_zero_shot_prompt, stag_cot_prompt, stag_predict_prompt, base_pg_prompt,\n",
        "pg_history_prompt, pg_zero_shot_prompt, pg_cot_prompt, pg_predict_prompt,\n",
        "hanabi_system_prompt, hanabi_observation_prompt, hanabi_action_prompt\n",
        "\n",
        "from metrics import winrate, rationality_public_goods, rationality_stag_hunt\n",
        "\n",
        "from games import StagHuntGame, PublicGoodsGame, HanabiGame\n",
        "\n",
        "from agents import StagHuntAgent, PublicGoodsAgent, HanabiAgent"
      ]
    },
    {
      "cell_type": "code",
      "source": [
        "def get_games_from_json(path_to_json=''):\n",
        "  global games\n",
        "  json_files = [pos_json for pos_json in os.listdir(path_to_json) if pos_json.endswith('.json')]\n",
        "  for p in json_files:\n",
        "    with open(p) as f:\n",
        "      g = json.load(f)\n",
        "      games.append(g)"
      ],
      "metadata": {
        "id": "ogx6ygE5iXQZ"
      },
      "execution_count": null,
      "outputs": []
    },
    {
      "cell_type": "code",
      "source": [
        "os.environ[\"OPENAI_API_KEY\"] = userdata.get('OPENAI_API_KEY')\n",
        "\n",
        "model = OpenAI(temperature=0.9)"
      ],
      "metadata": {
        "id": "jbxRae_2hM2b"
      },
      "execution_count": null,
      "outputs": []
    },
    {
      "cell_type": "code",
      "source": [
        "games = []\n",
        "g = PublicGoodsGame('game_1', 3, [PublicGoodsAgent(name = 'Player A', prompt_type = pg_cot_prompt),\n",
        "                                  PublicGoodsAgent(name = 'Player B'),\n",
        "                                  PublicGoodsAgent(name = 'Player C')], 5)\n",
        "g.play()"
      ],
      "metadata": {
        "id": "_8JZJEl7iZhX"
      },
      "execution_count": null,
      "outputs": []
    }
  ]
}